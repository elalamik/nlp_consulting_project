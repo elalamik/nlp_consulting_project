{
 "cells": [
  {
   "cell_type": "code",
   "execution_count": 2,
   "metadata": {},
   "outputs": [],
   "source": [
    "import requests\n",
    "from scrapy.selector import Selector"
   ]
  },
  {
   "cell_type": "code",
   "execution_count": 109,
   "metadata": {},
   "outputs": [
    {
     "name": "stdout",
     "output_type": "stream",
     "text": [
      "NU5MX2h0dHA6Ly93d3cudGFtYXJhbG91bmdlLmNvbV9VOFI=\n"
     ]
    }
   ],
   "source": [
    "url = 'https://www.tripadvisor.co.uk/Restaurant_Review-g1646049-d3731327-Reviews-Tamara_Lounge-Uxbridge_Greater_London_England.html'\n",
    "html = requests.get(url).content\n",
    "response = Selector(text=html)\n",
    "\n",
    "xpath_name = '//h1[@class=\"_3a1XQ88S\"]/text()'\n",
    "xpath_nb_reviews = '//div[@class=\"_1ud-0ITN\"]/span/a/span/text()'\n",
    "xpath_price_cusine = '//span[@class=\"_13OzAOXO _34GKdBMV\"]//a/text()'\n",
    "xpath_phone_number = '//div[@class=\"_1ud-0ITN\"]/span/span/span/a/text()'\n",
    "xpath_website = '//a[@class=\"_2wKz--mA _15QfMZ2L\"]/@data-encoded-url'\n",
    "xpath_ranking_absolute = '//div[@class=\"_1ud-0ITN\"]/span/a/span/b/span/text()'\n",
    "xpath_ranking = '//span[@class=\"_13OzAOXO _2VxaSjVD\"]/a/span/text()'\n",
    "xpath_rating = '//div[@class=\"_1ud-0ITN\"]/span/a/svg/@title'\n",
    "xpath_address = '//span[@class=\"_13OzAOXO _2VxaSjVD\"]/span[1]/a/text()'\n",
    "\n",
    "name = response.xpath(xpath_name).get()\n",
    "nb_reviews = response.xpath(xpath_nb_reviews).get()\n",
    "price_cuisine = response.xpath(xpath_price_cusine).getall()\n",
    "price = price_cuisine[0].strip()\n",
    "cuisine = price_cuisine[1:]\n",
    "address = response.xpath(xpath_address).get()\n",
    "website = response.xpath(xpath_website).get()\n",
    "\n",
    "print(website)\n",
    "\n",
    "ranking_absolute = response.xpath(xpath_ranking_absolute).get()\n",
    "ranking = ranking_absolute + response.xpath(xpath_ranking).get()\n",
    "rating = response.xpath(xpath_rating).get()\n",
    "phone_number = response.xpath(xpath_phone_number).get()\n",
    "\n",
    "rating = rating.split()[0]\n",
    "price = price_cuisine[0]\n",
    "cuisine = price[1:]"
   ]
  },
  {
   "cell_type": "code",
   "execution_count": 13,
   "metadata": {},
   "outputs": [
    {
     "name": "stdout",
     "output_type": "stream",
     "text": [
      "0\n"
     ]
    }
   ],
   "source": [
    "# username = 'Kemik36'\n",
    "username = 'Mr-Wanderful'\n",
    "url = \"https://www.tripadvisor.co.uk/Profile/\" + username\n",
    "html = requests.get(url).content\n",
    "response = Selector(text=html)\n",
    "xpath_nb_followers = '//div[@class=\"_1aVEDY08\"][2]/span[@class=\"iX3IT_XP\"]/text()'\n",
    "xpath_nb_following = '//div[@class=\"_1aVEDY08\"][3]/span[@class=\"iX3IT_XP\"]/text()'\n",
    "nb_contributions = response.xpath(xpath_nb_following).get()\n",
    "print(nb_contributions)"
   ]
  },
  {
   "cell_type": "code",
   "execution_count": 20,
   "metadata": {},
   "outputs": [
    {
     "name": "stdout",
     "output_type": "stream",
     "text": [
      "['<div id=\"UID_03450329CA15C7CE67C0C17C5D426A65-SRC_777338130\" class=\"memberOverlayLink\" onmouseover=\"widgetEvCall(\\'handlers.initMemberOverlay\\', event, this);\" data-anchorwidth=\"90\"><div class=\"avatar profile_03450329CA15C7CE67C0C17C5D426A65\"><div class=\"avatarWrapper\"><a><div class=\"prw_rup prw_common_basic_image avatarImage\" data-prwidget-name=\"common_basic_image\" data-prwidget-init=\"\"><div class=\"ui_avatar large\"><img src=\"https://static.tacdn.com/img2/x.gif\" id=\"lazyload_-959236142_0\" class=\"basicImg\" data-mediaid=\"452391804\"></div></div></a></div></div><div class=\"username mo\"><span class=\"expand_inline scrname\" onclick=\"ta.trackEventOnPage(\\'Reviews\\', \\'click\\', \\'user_name_name_click\\')\">Phil C</span></div><div class=\"location\"><span class=\"expand_inline userLocation\">London, United Kingdom</span></div></div>', '<div id=\"UID_03450329CA15C7CE67C0C17C5D426A65-SRC_777338130\" class=\"memberOverlayLink\" onmouseover=\"widgetEvCall(\\'handlers.initMemberOverlay\\', event, this);\" data-anchorwidth=\"90\"><div class=\"memberBadgingNoText\"><span class=\"ui_icon pencil-paper\"></span><span class=\"badgetext\">23</span><span class=\"ui_icon thumbs-up\"></span><span class=\"badgetext\">9</span></div></div>', '<div id=\"UID_5DC2CC7B30553AF073692D43970A9FAF-SRC_777109816\" class=\"memberOverlayLink\" onmouseover=\"widgetEvCall(\\'handlers.initMemberOverlay\\', event, this);\" data-anchorwidth=\"90\"><div class=\"avatar profile_5DC2CC7B30553AF073692D43970A9FAF\"><div class=\"avatarWrapper\"><a><div class=\"prw_rup prw_common_basic_image avatarImage\" data-prwidget-name=\"common_basic_image\" data-prwidget-init=\"\"><div class=\"ui_avatar large\"><img src=\"https://static.tacdn.com/img2/x.gif\" id=\"lazyload_-959236142_1\" class=\"basicImg\" data-mediaid=\"452391125\"></div></div></a></div></div><div class=\"username mo\"><span class=\"expand_inline scrname\" onclick=\"ta.trackEventOnPage(\\'Reviews\\', \\'click\\', \\'user_name_name_click\\')\">abigaild475</span></div></div>', '<div id=\"UID_5DC2CC7B30553AF073692D43970A9FAF-SRC_777109816\" class=\"memberOverlayLink\" onmouseover=\"widgetEvCall(\\'handlers.initMemberOverlay\\', event, this);\" data-anchorwidth=\"90\"><div class=\"memberBadgingNoText\"><span class=\"ui_icon pencil-paper\"></span><span class=\"badgetext\">1</span></div></div>', '<div id=\"UID_C0C884638C3D43E0D66C901FB50B7714-SRC_776674110\" class=\"memberOverlayLink\" onmouseover=\"widgetEvCall(\\'handlers.initMemberOverlay\\', event, this);\" data-anchorwidth=\"90\"><div class=\"avatar profile_C0C884638C3D43E0D66C901FB50B7714\"><div class=\"avatarWrapper\"><a><div class=\"prw_rup prw_common_basic_image avatarImage\" data-prwidget-name=\"common_basic_image\" data-prwidget-init=\"\"><div class=\"ui_avatar large\"><img src=\"https://static.tacdn.com/img2/x.gif\" id=\"lazyload_-959236142_2\" class=\"basicImg\" data-mediaid=\"260905359\"></div></div></a></div></div><div class=\"username mo\"><span class=\"expand_inline scrname\" onclick=\"ta.trackEventOnPage(\\'Reviews\\', \\'click\\', \\'user_name_name_click\\')\">424jeanineb</span></div></div>', '<div id=\"UID_C0C884638C3D43E0D66C901FB50B7714-SRC_776674110\" class=\"memberOverlayLink\" onmouseover=\"widgetEvCall(\\'handlers.initMemberOverlay\\', event, this);\" data-anchorwidth=\"90\"><div class=\"memberBadgingNoText\"><span class=\"ui_icon pencil-paper\"></span><span class=\"badgetext\">2</span></div></div>', '<div id=\"UID_82B5B1CE5DE71FF2D3C9D3CF6F82DFB5-SRC_776308715\" class=\"memberOverlayLink\" onmouseover=\"widgetEvCall(\\'handlers.initMemberOverlay\\', event, this);\" data-anchorwidth=\"90\"><div class=\"avatar profile_82B5B1CE5DE71FF2D3C9D3CF6F82DFB5\"><div class=\"avatarWrapper\"><a><div class=\"prw_rup prw_common_basic_image avatarImage\" data-prwidget-name=\"common_basic_image\" data-prwidget-init=\"\"><div class=\"ui_avatar large\"><img src=\"https://static.tacdn.com/img2/x.gif\" id=\"lazyload_-959236142_3\" class=\"basicImg\" data-mediaid=\"474248315\"></div></div></a></div></div><div class=\"username mo\"><span class=\"expand_inline scrname\" onclick=\"ta.trackEventOnPage(\\'Reviews\\', \\'click\\', \\'user_name_name_click\\')\">CAB1270</span></div></div>', '<div id=\"UID_82B5B1CE5DE71FF2D3C9D3CF6F82DFB5-SRC_776308715\" class=\"memberOverlayLink\" onmouseover=\"widgetEvCall(\\'handlers.initMemberOverlay\\', event, this);\" data-anchorwidth=\"90\"><div class=\"memberBadgingNoText\"><span class=\"ui_icon pencil-paper\"></span><span class=\"badgetext\">1</span></div></div>', '<div id=\"UID_27A34B9711477E1CF4B9835E538DE3A0-SRC_776223333\" class=\"memberOverlayLink\" onmouseover=\"widgetEvCall(\\'handlers.initMemberOverlay\\', event, this);\" data-anchorwidth=\"90\"><div class=\"avatar profile_27A34B9711477E1CF4B9835E538DE3A0\"><div class=\"avatarWrapper\"><a><div class=\"prw_rup prw_common_basic_image avatarImage\" data-prwidget-name=\"common_basic_image\" data-prwidget-init=\"\"><div class=\"ui_avatar large\"><img src=\"https://static.tacdn.com/img2/x.gif\" id=\"lazyload_-959236142_4\" class=\"basicImg\" data-mediaid=\"94634022\"></div></div></a></div></div><div class=\"username mo\"><span class=\"expand_inline scrname\" onclick=\"ta.trackEventOnPage(\\'Reviews\\', \\'click\\', \\'user_name_name_click\\')\">Peter10662014</span></div><div class=\"location\"><span class=\"expand_inline userLocation\">Walsall, United Kingdom</span></div></div>', '<div id=\"UID_27A34B9711477E1CF4B9835E538DE3A0-SRC_776223333\" class=\"memberOverlayLink\" onmouseover=\"widgetEvCall(\\'handlers.initMemberOverlay\\', event, this);\" data-anchorwidth=\"90\"><div class=\"memberBadgingNoText\"><span class=\"ui_icon pencil-paper\"></span><span class=\"badgetext\">13</span><span class=\"ui_icon thumbs-up\"></span><span class=\"badgetext\">7</span></div></div>']\n"
     ]
    }
   ],
   "source": [
    "url = 'https://www.tripadvisor.co.uk/ShowUserReviews-g528818-d2306043-r777338130-La_Dolce_Vita-Teddington_Richmond_upon_Thames_Greater_London_England.html'\n",
    "html = requests.get(url).content\n",
    "response = Selector(text=html)\n",
    "xpath_user = '//div[@class=\"memberOverlayLink\"]'\n",
    "href = response.xpath(xpath_user).getall()\n",
    "print(href)"
   ]
  },
  {
   "cell_type": "code",
   "execution_count": null,
   "metadata": {},
   "outputs": [],
   "source": []
  }
 ],
 "metadata": {
  "kernelspec": {
   "display_name": "Python 3",
   "language": "python",
   "name": "python3"
  },
  "language_info": {
   "codemirror_mode": {
    "name": "ipython",
    "version": 3
   },
   "file_extension": ".py",
   "mimetype": "text/x-python",
   "name": "python",
   "nbconvert_exporter": "python",
   "pygments_lexer": "ipython3",
   "version": "3.8.5"
  },
  "varInspector": {
   "cols": {
    "lenName": 16,
    "lenType": 16,
    "lenVar": 40
   },
   "kernels_config": {
    "python": {
     "delete_cmd_postfix": "",
     "delete_cmd_prefix": "del ",
     "library": "var_list.py",
     "varRefreshCmd": "print(var_dic_list())"
    },
    "r": {
     "delete_cmd_postfix": ") ",
     "delete_cmd_prefix": "rm(",
     "library": "var_list.r",
     "varRefreshCmd": "cat(var_dic_list()) "
    }
   },
   "types_to_exclude": [
    "module",
    "function",
    "builtin_function_or_method",
    "instance",
    "_Feature"
   ],
   "window_display": false
  }
 },
 "nbformat": 4,
 "nbformat_minor": 4
}
