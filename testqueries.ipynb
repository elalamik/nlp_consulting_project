{
 "cells": [
  {
   "cell_type": "code",
   "execution_count": 1,
   "metadata": {},
   "outputs": [],
   "source": [
    "import requests\n",
    "from scrapy.selector import Selector"
   ]
  },
  {
   "cell_type": "code",
   "execution_count": 109,
   "metadata": {},
   "outputs": [
    {
     "name": "stdout",
     "output_type": "stream",
     "text": [
      "NU5MX2h0dHA6Ly93d3cudGFtYXJhbG91bmdlLmNvbV9VOFI=\n"
     ]
    }
   ],
   "source": [
    "url = 'https://www.tripadvisor.co.uk/Restaurant_Review-g1646049-d3731327-Reviews-Tamara_Lounge-Uxbridge_Greater_London_England.html'\n",
    "html = requests.get(url).content\n",
    "response = Selector(text=html)\n",
    "\n",
    "xpath_name = '//h1[@class=\"_3a1XQ88S\"]/text()'\n",
    "xpath_nb_reviews = '//div[@class=\"_1ud-0ITN\"]/span/a/span/text()'\n",
    "xpath_price_cusine = '//span[@class=\"_13OzAOXO _34GKdBMV\"]//a/text()'\n",
    "xpath_phone_number = '//div[@class=\"_1ud-0ITN\"]/span/span/span/a/text()'\n",
    "xpath_website = '//a[@class=\"_2wKz--mA _15QfMZ2L\"]/@data-encoded-url'\n",
    "xpath_ranking_absolute = '//div[@class=\"_1ud-0ITN\"]/span/a/span/b/span/text()'\n",
    "xpath_ranking = '//span[@class=\"_13OzAOXO _2VxaSjVD\"]/a/span/text()'\n",
    "xpath_rating = '//div[@class=\"_1ud-0ITN\"]/span/a/svg/@title'\n",
    "xpath_address = '//span[@class=\"_13OzAOXO _2VxaSjVD\"]/span[1]/a/text()'\n",
    "\n",
    "name = response.xpath(xpath_name).get()\n",
    "nb_reviews = response.xpath(xpath_nb_reviews).get()\n",
    "price_cuisine = response.xpath(xpath_price_cusine).getall()\n",
    "price = price_cuisine[0].strip()\n",
    "cuisine = price_cuisine[1:]\n",
    "address = response.xpath(xpath_address).get()\n",
    "website = response.xpath(xpath_website).get()\n",
    "\n",
    "print(website)\n",
    "\n",
    "ranking_absolute = response.xpath(xpath_ranking_absolute).get()\n",
    "ranking = ranking_absolute + response.xpath(xpath_ranking).get()\n",
    "rating = response.xpath(xpath_rating).get()\n",
    "phone_number = response.xpath(xpath_phone_number).get()\n",
    "\n",
    "rating = rating.split()[0]\n",
    "price = price_cuisine[0]\n",
    "cuisine = price[1:]"
   ]
  },
  {
   "cell_type": "code",
   "execution_count": null,
   "metadata": {},
   "outputs": [],
   "source": []
  },
  {
   "cell_type": "code",
   "execution_count": null,
   "metadata": {},
   "outputs": [],
   "source": []
  }
 ],
 "metadata": {
  "kernelspec": {
   "display_name": "Python 3",
   "language": "python",
   "name": "python3"
  },
  "language_info": {
   "codemirror_mode": {
    "name": "ipython",
    "version": 3
   },
   "file_extension": ".py",
   "mimetype": "text/x-python",
   "name": "python",
   "nbconvert_exporter": "python",
   "pygments_lexer": "ipython3",
   "version": "3.8.5"
  },
  "varInspector": {
   "cols": {
    "lenName": 16,
    "lenType": 16,
    "lenVar": 40
   },
   "kernels_config": {
    "python": {
     "delete_cmd_postfix": "",
     "delete_cmd_prefix": "del ",
     "library": "var_list.py",
     "varRefreshCmd": "print(var_dic_list())"
    },
    "r": {
     "delete_cmd_postfix": ") ",
     "delete_cmd_prefix": "rm(",
     "library": "var_list.r",
     "varRefreshCmd": "cat(var_dic_list()) "
    }
   },
   "types_to_exclude": [
    "module",
    "function",
    "builtin_function_or_method",
    "instance",
    "_Feature"
   ],
   "window_display": false
  }
 },
 "nbformat": 4,
 "nbformat_minor": 4
}
